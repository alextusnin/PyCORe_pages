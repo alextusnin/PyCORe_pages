{
 "cells": [
  {
   "cell_type": "markdown",
   "id": "d7283eca",
   "metadata": {},
   "source": [
    "(quickstart)=\n",
    "# Quickstart with the single-resonator solver\n",
    "\n",
    "## Parameters initialization\n",
    "\n",
    "First, we need to import all the necessary libraries"
   ]
  },
  {
   "cell_type": "code",
   "execution_count": 1,
   "id": "13f95fc8",
   "metadata": {},
   "outputs": [],
   "source": [
    "import matplotlib.pyplot as plt\n",
    "plt.rcParams['figure.dpi'] = 120\n",
    "plt.rcParams['savefig.dpi'] = 120\n",
    "import numpy as np\n",
    "import sys,os\n",
    "my_PyCore_dir = os.path.dirname('/Users/aleksandrtusnin/Documents/Projects/PyCORe/')\n",
    "sys.path.append(my_PyCore_dir)\n",
    "import PyCORe_main as pcm\n",
    "from scipy.constants import c, hbar\n",
    "%matplotlib widget"
   ]
  },
  {
   "cell_type": "markdown",
   "id": "995d12e5",
   "metadata": {},
   "source": [
    "Then, we define the dispersion parameters:\n",
    "* Number of frequency modes used in the simulations\n",
    "* Array of comb indexes $\\mu$\n"
   ]
  },
  {
   "cell_type": "code",
   "execution_count": 2,
   "id": "6de77dd9",
   "metadata": {},
   "outputs": [],
   "source": [
    "Num_of_modes = 2**9\n",
    "mu = np.arange(-Num_of_modes/2,Num_of_modes/2)"
   ]
  },
  {
   "cell_type": "markdown",
   "id": "48e3cc5b",
   "metadata": {},
   "source": [
    "* Group velocity dispersion $D_2 = -\\beta_2 \\frac{D_1^2 c}{n_g}$ [$2\\pi$Hz], where $D_1 = 2\\pi FSR$"
   ]
  },
  {
   "cell_type": "code",
   "execution_count": 3,
   "id": "4e8cdfe6",
   "metadata": {},
   "outputs": [],
   "source": [
    "D2 = 4.1e6*2*np.pi"
   ]
  },
  {
   "cell_type": "markdown",
   "id": "e23204ad",
   "metadata": {},
   "source": [
    "that then defines the integrated dispersion profile $D_\\mathrm{int} = D_2 \\frac{\\mu^2}{2}$"
   ]
  },
  {
   "cell_type": "code",
   "execution_count": 4,
   "id": "664d1557",
   "metadata": {},
   "outputs": [],
   "source": [
    "Dint = (mu**2*D2/2) "
   ]
  },
  {
   "cell_type": "markdown",
   "id": "f5518b5b",
   "metadata": {},
   "source": [
    ":::{admonition} Note: higher order dispersion terms\n",
    ":class: tip, dropdown\n",
    "To take into account higher order dispersion orders, you just need to define $D_3,\\, D_4,...$\n",
    "and redefine $D_\\mathrm{int} = D_2 \\frac{\\mu^2}{2} + D_3 \\frac{\\mu^3}{3!} + D_4 \\frac{\\mu^4}{4!} + ...$\n",
    ":::\n",
    "\n",
    ":::{admonition} Note: mode crossings\n",
    ":class: tip, dropdown\n",
    "Mode crossings can be added manually in the dispersion array as follows\n",
    "```python\n",
    "mu_AMX = 35\n",
    "Dint[mu_AMX]-=2*np.pi*1e6\n",
    "```\n",
    "In this example, we shifted the mode $\\mu=35$ by $1$ GHz below the 'unperturbed' dispersion curve\n",
    ":::\n"
   ]
  },
  {
   "cell_type": "markdown",
   "id": "f90cd289",
   "metadata": {},
   "source": [
    "Then, we create a dictionary with the physical parameters"
   ]
  },
  {
   "cell_type": "code",
   "execution_count": 5,
   "id": "3d029ea0",
   "metadata": {},
   "outputs": [],
   "source": [
    "PhysicalParameters = {'n0' : 1.9,\n",
    "                      'n2' : 2.4e-19,### m^2/W\n",
    "                      'FSR' : 181.7e9 ,\n",
    "                      'w0' : 2*np.pi*192e12,\n",
    "                      'width' : 1.5e-6,\n",
    "                      'height' : 0.85e-6,\n",
    "                      'kappa_0' : 50e6*2*np.pi,\n",
    "                      'kappa_ex' : 50e6*2*np.pi,\n",
    "                      'Dint' : Dint,\n",
    "                      'Raman time' :  1e-15 #s\n",
    "                      }"
   ]
  },
  {
   "cell_type": "markdown",
   "id": "fd8c71f1",
   "metadata": {},
   "source": [
    "Further, we define the pump laser parameters, such as pump power, tuning range, and the scan time. We define the pump in the frequency domain within *fftshift* framework.   "
   ]
  },
  {
   "cell_type": "code",
   "execution_count": 6,
   "id": "5471c1c0",
   "metadata": {},
   "outputs": [],
   "source": [
    "dNu_ini = -1e9 #Hz\n",
    "dNu_end = 3e9 #Hz\n",
    "nn = 2000\n",
    "dOm = 2*np.pi*np.linspace(dNu_ini,dNu_end,nn)\n",
    "scan_time = 1e-6 #s\n",
    "P0 = 0.15### W\n",
    "Pump = np.zeros(len(mu),dtype='complex')\n",
    "Pump[0] = np.sqrt(P0)"
   ]
  },
  {
   "cell_type": "markdown",
   "id": "82b93f9a",
   "metadata": {},
   "source": [
    "Finally, we define the simulation parameters"
   ]
  },
  {
   "cell_type": "code",
   "execution_count": 7,
   "id": "30ace30f",
   "metadata": {},
   "outputs": [],
   "source": [
    "simulation_parameters = {'slow_time' : scan_time,\n",
    "                         'detuning_array' : dOm,\n",
    "                         'noise_level' : 1e-9,\n",
    "                         'output' : 'map',\n",
    "                         'absolute_tolerance' : 1e-10,\n",
    "                         'relative_tolerance' : 1e-6,\n",
    "                         'max_internal_steps' : 2000}"
   ]
  },
  {
   "cell_type": "markdown",
   "id": "1c5644bb",
   "metadata": {},
   "source": [
    ":::{admonition} simulation_parameters note\n",
    ":class: tip, dropdown\n",
    "* 'noise_level' defines the amplitude of the white noise in the frequency domain;\n",
    "* 'output' : 'map' defines the dense output from the solver: the result will be np.array(\\[dOm.size,mu.size\\],dtype=complex). Alternative paramet is 'fin_res', that results only in the output of the final state at dOm[-1].\n",
    "* 'absolute_tolerance', 'relative_tolerance', and 'max_internal_steps' define the condition for the step-adaptative solver\n",
    ":::\n",
    "\n",
    "## Class initialization\n",
    "\n",
    "Now, we need to initialize the resonator class from the Physical parameters"
   ]
  },
  {
   "cell_type": "code",
   "execution_count": 8,
   "id": "38e47c9a",
   "metadata": {},
   "outputs": [],
   "source": [
    "single_ring = pcm.Resonator()\n",
    "single_ring.Init_From_Dict(PhysicalParameters)"
   ]
  },
  {
   "cell_type": "markdown",
   "id": "81361b69",
   "metadata": {},
   "source": [
    "## Simulations\n",
    "\n",
    "We are ready to run our simulations"
   ]
  },
  {
   "cell_type": "code",
   "execution_count": null,
   "id": "72a1787c",
   "metadata": {},
   "outputs": [],
   "source": [
    "try:\n",
    "    map2d = single_ring.Propagate_PseudoSpectralSAMCLIB(simulation_parameters, Pump,dt=0.5e-3)# only works if C libraries are installed\n",
    "except: \n",
    "    map2d = single_ring.Propagate_SplitStep(simulation_parameters, Pump,dt=0.5e-3)# works with just Python"
   ]
  },
  {
   "cell_type": "markdown",
   "id": "11f8cc18",
   "metadata": {},
   "source": [
    ":::{admonition} Simulations print output\n",
    ":class: tip, dropdown\n",
    "* For convinience, normalized pump power $f_0^2$ and the detuning array $\\zeta_0$ are printed before the execution. \n",
    "* Third line specifies the type of the solver that is used\n",
    "* 4th and 5th lines reflect the building of the solver class\n",
    "* 6th line represnts the progress bar\n",
    ":::"
   ]
  },
  {
   "cell_type": "markdown",
   "id": "7b56bfd5",
   "metadata": {},
   "source": [
    "## Data analysis\n",
    "\n",
    "Now the simulation results are storred in the array map2d that has the size \\[dOm.size $\\times$ mu.size \\] and contains the amplitude and the phase of the optical field envelope. Number of photons, storred in the cavity, defined as \n",
    "```python\n",
    "np.sum(map2d,axis=1)/Num_of_modes\n",
    "```\n",
    "while number of modes for a comb line $\\mu$ is\n",
    "```python\n",
    "map2d[:,mu]/Num_of_modes\n",
    "```"
   ]
  },
  {
   "cell_type": "markdown",
   "id": "c53303ad",
   "metadata": {},
   "source": [
    "### Transmission trace\n",
    "Dynamcis of the number of modes as detuning function presented below"
   ]
  },
  {
   "cell_type": "code",
   "execution_count": 9,
   "id": "a3d8fb57",
   "metadata": {},
   "outputs": [
    {
     "ename": "NameError",
     "evalue": "name 'map2d' is not defined",
     "output_type": "error",
     "traceback": [
      "\u001b[0;31m---------------------------------------------------------------------------\u001b[0m",
      "\u001b[0;31mNameError\u001b[0m                                 Traceback (most recent call last)",
      "\u001b[0;32m/var/folders/sn/qf84cb8n2jn9khwk0csmq2l80000gq/T/ipykernel_61243/1523350399.py\u001b[0m in \u001b[0;36m<module>\u001b[0;34m\u001b[0m\n\u001b[0;32m----> 1\u001b[0;31m \u001b[0mNum_of_photons\u001b[0m \u001b[0;34m=\u001b[0m \u001b[0mnp\u001b[0m\u001b[0;34m.\u001b[0m\u001b[0msum\u001b[0m\u001b[0;34m(\u001b[0m\u001b[0mnp\u001b[0m\u001b[0;34m.\u001b[0m\u001b[0mabs\u001b[0m\u001b[0;34m(\u001b[0m\u001b[0;34m(\u001b[0m\u001b[0mmap2d\u001b[0m\u001b[0;34m[\u001b[0m\u001b[0;34m:\u001b[0m\u001b[0;34m,\u001b[0m\u001b[0;34m:\u001b[0m\u001b[0;34m]\u001b[0m\u001b[0;34m)\u001b[0m\u001b[0;34m/\u001b[0m\u001b[0;34m(\u001b[0m\u001b[0mNum_of_modes\u001b[0m\u001b[0;34m)\u001b[0m\u001b[0;34m)\u001b[0m\u001b[0;34m**\u001b[0m\u001b[0;36m2\u001b[0m\u001b[0;34m,\u001b[0m\u001b[0maxis\u001b[0m\u001b[0;34m=\u001b[0m\u001b[0;36m1\u001b[0m\u001b[0;34m)\u001b[0m\u001b[0;34m\u001b[0m\u001b[0;34m\u001b[0m\u001b[0m\n\u001b[0m\u001b[1;32m      2\u001b[0m \u001b[0mfig\u001b[0m \u001b[0;34m=\u001b[0m \u001b[0mplt\u001b[0m\u001b[0;34m.\u001b[0m\u001b[0mfigure\u001b[0m\u001b[0;34m(\u001b[0m\u001b[0mframeon\u001b[0m\u001b[0;34m=\u001b[0m\u001b[0;32mFalse\u001b[0m\u001b[0;34m,\u001b[0m\u001b[0mdpi\u001b[0m\u001b[0;34m=\u001b[0m\u001b[0;36m150\u001b[0m\u001b[0;34m)\u001b[0m\u001b[0;34m\u001b[0m\u001b[0;34m\u001b[0m\u001b[0m\n\u001b[1;32m      3\u001b[0m \u001b[0max\u001b[0m \u001b[0;34m=\u001b[0m \u001b[0mfig\u001b[0m\u001b[0;34m.\u001b[0m\u001b[0madd_subplot\u001b[0m\u001b[0;34m(\u001b[0m\u001b[0;36m1\u001b[0m\u001b[0;34m,\u001b[0m\u001b[0;36m1\u001b[0m\u001b[0;34m,\u001b[0m\u001b[0;36m1\u001b[0m\u001b[0;34m)\u001b[0m\u001b[0;34m\u001b[0m\u001b[0;34m\u001b[0m\u001b[0m\n\u001b[1;32m      4\u001b[0m \u001b[0max\u001b[0m\u001b[0;34m.\u001b[0m\u001b[0mplot\u001b[0m\u001b[0;34m(\u001b[0m\u001b[0mdOm\u001b[0m\u001b[0;34m/\u001b[0m\u001b[0;36m2\u001b[0m\u001b[0;34m/\u001b[0m\u001b[0mnp\u001b[0m\u001b[0;34m.\u001b[0m\u001b[0mpi\u001b[0m\u001b[0;34m/\u001b[0m\u001b[0;36m1e9\u001b[0m\u001b[0;34m,\u001b[0m\u001b[0mNum_of_photons\u001b[0m\u001b[0;34m)\u001b[0m\u001b[0;34m\u001b[0m\u001b[0;34m\u001b[0m\u001b[0m\n\u001b[1;32m      5\u001b[0m \u001b[0max\u001b[0m\u001b[0;34m.\u001b[0m\u001b[0mset_xlabel\u001b[0m\u001b[0;34m(\u001b[0m\u001b[0;34m'Laser detuning (GHz)'\u001b[0m\u001b[0;34m)\u001b[0m\u001b[0;34m\u001b[0m\u001b[0;34m\u001b[0m\u001b[0m\n",
      "\u001b[0;31mNameError\u001b[0m: name 'map2d' is not defined"
     ]
    }
   ],
   "source": [
    "Num_of_photons = np.sum(np.abs((map2d[:,:])/(Num_of_modes))**2,axis=1)\n",
    "fig = plt.figure(frameon=False,dpi=150)\n",
    "ax = fig.add_subplot(1,1,1)\n",
    "ax.plot(dOm/2/np.pi/1e9,Num_of_photons)\n",
    "ax.set_xlabel('Laser detuning (GHz)')\n",
    "ax.set_ylabel('Number of photons')\n",
    "ax.grid(True)\n",
    "plt.show()"
   ]
  },
  {
   "cell_type": "markdown",
   "id": "38c375f2",
   "metadata": {},
   "source": [
    "Transmission trace through the resonator can be obtained via\n",
    "\n",
    "$$\n",
    "\n",
    "S_\\mathrm{out} = S_\\mathrm{in} - \\sqrt{\\kappa_\\mathrm{ex}}A,\n",
    "\n",
    "$$\n",
    "\n",
    "where $S_\\mathrm{in}^2 = P_\\mathrm{in}/\\hbar\\omega$ to $\\mu$-th comb line and $A =$ map2d\\[:,mu\\]/Num_of_modes.\n",
    "\n",
    "Below we show the simulated transmission trace that should be visible on a photodetector"
   ]
  },
  {
   "cell_type": "code",
   "execution_count": null,
   "id": "d59a54ae",
   "metadata": {},
   "outputs": [],
   "source": [
    "Sin = Pump/np.sqrt(hbar*PhysicalParameters['w0'])\n",
    "Sout = np.zeros_like(map2d)\n",
    "Sout = Sin - np.sqrt(single_ring.kappa_ex)*map2d/Num_of_modes\n",
    "fig = plt.figure(frameon=False,dpi=150)\n",
    "ax = fig.add_subplot(1,1,1)\n",
    "ax.plot(dOm/2/np.pi/1e9,np.sum(abs(Sout)**2,axis=1)/abs(Sin[0])**2)\n",
    "ax.set_xlabel('Laser detuning (GHz)')\n",
    "ax.set_ylabel('Normalized transmission')\n",
    "plt.show()\n"
   ]
  },
  {
   "cell_type": "markdown",
   "id": "1cba177c",
   "metadata": {},
   "source": [
    "### Optical spectrum\n",
    "A simulated OSA spectrum for a given detuning can be presented as\n",
    "\n",
    ":::{admonition} Note\n",
    ":class: tip, dropdown\n",
    "$|S_\\mathrm{out}|^2\\hbar\\omega$ is measured in Watts, so to present it in dBm is pretty straightforward\n",
    "$$\n",
    "\\mathrm{Spectrum [dBm ]} = 10log_{10}(|S_\\mathrm{out}|^2\\hbar\\omega/10^{-3})\n",
    "$$\n",
    ":::\n"
   ]
  },
  {
   "cell_type": "code",
   "execution_count": null,
   "id": "444d4298",
   "metadata": {},
   "outputs": [],
   "source": [
    "fig = plt.figure(frameon=False,dpi=150)\n",
    "ax = fig.add_subplot(1,1,1)\n",
    "ax.vlines(mu,-300,10*np.log10(np.abs(np.fft.fftshift(Sout[1000,:]))**2*hbar*PhysicalParameters['w0']/1e-3),lw=1.0)\n",
    "ax.scatter(mu,10*np.log10(np.abs(np.fft.fftshift(Sout[1000,:]))**2*hbar*PhysicalParameters['w0']/1e-3),s=2.0)\n",
    "ax.set_xlabel('Mode index $\\mu$')\n",
    "ax.set_ylabel('OSA spectrum (dBm)')\n",
    "ax.set_ylim(-75,25)\n",
    "ax.set_xlim(-120,120)\n",
    "plt.show()"
   ]
  },
  {
   "cell_type": "markdown",
   "id": "d434fc08",
   "metadata": {},
   "source": [
    "### Quick dynamics plot\n",
    "To quickly analyze the generated data, we implemeted an interactive function *Plot_map* that allows for investigation of the field with different detuings"
   ]
  },
  {
   "cell_type": "code",
   "execution_count": null,
   "id": "6dcce951",
   "metadata": {
    "scrolled": false
   },
   "outputs": [],
   "source": [
    "pcm.Plot_Map(np.fft.ifft(map2d,axis=1),dOm/2/np.pi/1e9,xlabel='Detuning', units='GHz')"
   ]
  },
  {
   "cell_type": "code",
   "execution_count": null,
   "id": "67b561a1",
   "metadata": {},
   "outputs": [],
   "source": []
  }
 ],
 "metadata": {
  "kernelspec": {
   "display_name": "Python 3 (ipykernel)",
   "language": "python",
   "name": "python3"
  },
  "language_info": {
   "codemirror_mode": {
    "name": "ipython",
    "version": 3
   },
   "file_extension": ".py",
   "mimetype": "text/x-python",
   "name": "python",
   "nbconvert_exporter": "python",
   "pygments_lexer": "ipython3",
   "version": "3.10.8"
  }
 },
 "nbformat": 4,
 "nbformat_minor": 5
}
