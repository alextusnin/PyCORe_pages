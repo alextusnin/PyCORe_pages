{
 "cells": [
  {
   "cell_type": "markdown",
   "id": "5440387a",
   "metadata": {},
   "source": [
    "# Quickstart with simple LLE"
   ]
  },
  {
   "cell_type": "markdown",
   "id": "a1336962",
   "metadata": {},
   "source": [
    "First, we import the necessary libraries\n",
    "```python\n",
    "import matplotlib.pyplot as plt\n",
    "import numpy as np\n",
    "import sys,os\n",
    "PyCore_dir = os.path.dirname(<your PATH to PyCORe>)\n",
    "sys.path.append(PyCore_dir)\n",
    "import PyCORe_main as pcm\n",
    "```"
   ]
  },
  {
   "cell_type": "code",
   "execution_count": null,
   "id": "a408e973",
   "metadata": {},
   "outputs": [],
   "source": []
  }
 ],
 "metadata": {
  "kernelspec": {
   "display_name": "Python 3 (ipykernel)",
   "language": "python",
   "name": "python3"
  },
  "language_info": {
   "codemirror_mode": {
    "name": "ipython",
    "version": 3
   },
   "file_extension": ".py",
   "mimetype": "text/x-python",
   "name": "python",
   "nbconvert_exporter": "python",
   "pygments_lexer": "ipython3",
   "version": "3.10.8"
  }
 },
 "nbformat": 4,
 "nbformat_minor": 5
}